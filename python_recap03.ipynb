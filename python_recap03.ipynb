{
 "cells": [
  {
   "cell_type": "code",
   "execution_count": 3,
   "id": "a21a5dcd",
   "metadata": {},
   "outputs": [
    {
     "name": "stdout",
     "output_type": "stream",
     "text": [
      "Hello from my_func!\n"
     ]
    }
   ],
   "source": [
    "# Functions\n",
    "def my_func():\n",
    "    print(\"Hello from my_func!\")\n",
    "    \n",
    "my_func()"
   ]
  },
  {
   "cell_type": "code",
   "execution_count": 4,
   "id": "bf2e2631",
   "metadata": {},
   "outputs": [
    {
     "name": "stdout",
     "output_type": "stream",
     "text": [
      "Hello John\n",
      "Hello Jose\n"
     ]
    }
   ],
   "source": [
    "def param_func(name = \"John\"):\n",
    "    print(f\"Hello {name}\")\n",
    "    \n",
    "param_func()\n",
    "param_func(\"Jose\")"
   ]
  },
  {
   "cell_type": "code",
   "execution_count": 6,
   "id": "dbe221b7",
   "metadata": {},
   "outputs": [
    {
     "name": "stdout",
     "output_type": "stream",
     "text": [
      "20 times 5 is 100\n"
     ]
    }
   ],
   "source": [
    "def times_five(n):\n",
    "    \"\"\"\n",
    "    This is a Docstring!\n",
    "    It documentates what this function does and what arguments it accepts.\n",
    "    Ex: Returns n multiplied by 5\n",
    "    \"\"\"\n",
    "    return n * 5\n",
    "\n",
    "print(\"20 times 5 is {}\".format(times_five(20)))"
   ]
  },
  {
   "cell_type": "code",
   "execution_count": 1,
   "id": "0aa7973c",
   "metadata": {},
   "outputs": [
    {
     "data": {
      "text/plain": [
       "<function __main__.<lambda>(x)>"
      ]
     },
     "execution_count": 1,
     "metadata": {},
     "output_type": "execute_result"
    }
   ],
   "source": [
    "# Lambdas\n",
    "# Lambdas are annonymous functions\n",
    "# They're usually used in conjuction with other functions to complement them. See the map function next.\n",
    "lambda x: x * 2"
   ]
  },
  {
   "cell_type": "code",
   "execution_count": 3,
   "id": "cd7b58ca",
   "metadata": {},
   "outputs": [
    {
     "data": {
      "text/plain": [
       "<map at 0x21295ea22e0>"
      ]
     },
     "execution_count": 3,
     "metadata": {},
     "output_type": "execute_result"
    }
   ],
   "source": [
    "# Map\n",
    "# Map takes a function and applies it to every item of an iterable\n",
    "seq = [1, 2, 3, 4]\n",
    "m_obj = map(lambda x: x * 2, seq)\n",
    "m_obj # map returns an iterator, so next, we'll turn into a list to get it's results"
   ]
  },
  {
   "cell_type": "code",
   "execution_count": 4,
   "id": "6b320291",
   "metadata": {},
   "outputs": [
    {
     "data": {
      "text/plain": [
       "[2, 4, 6, 8]"
      ]
     },
     "execution_count": 4,
     "metadata": {},
     "output_type": "execute_result"
    }
   ],
   "source": [
    "list(m_obj) "
   ]
  },
  {
   "cell_type": "code",
   "execution_count": 5,
   "id": "5ccaddfb",
   "metadata": {},
   "outputs": [
    {
     "data": {
      "text/plain": [
       "[2, 4]"
      ]
     },
     "execution_count": 5,
     "metadata": {},
     "output_type": "execute_result"
    }
   ],
   "source": [
    "# Filter\n",
    "# Given a boolean returning function, it will filter items of an iterable\n",
    "f_obj = filter(lambda x: x % 2 == 0, seq)\n",
    "list(f_obj)"
   ]
  },
  {
   "cell_type": "code",
   "execution_count": 6,
   "id": "9649c2f9",
   "metadata": {},
   "outputs": [
    {
     "name": "stdout",
     "output_type": "stream",
     "text": [
      "hello my name is sam\n",
      "HELLO MY NAME IS SAM\n"
     ]
    }
   ],
   "source": [
    "# String Methods\n",
    "st = \"Hello my name is Sam\"\n",
    "print(st.lower())\n",
    "print(st.upper())"
   ]
  },
  {
   "cell_type": "code",
   "execution_count": 11,
   "id": "f15a40a9",
   "metadata": {},
   "outputs": [
    {
     "name": "stdout",
     "output_type": "stream",
     "text": [
      "['Go', 'Sports!', '#cool', '#sports']\n",
      "['Go Sports! ', 'cool ', 'sports']\n",
      "cool \n"
     ]
    }
   ],
   "source": [
    "tweet = \"Go Sports! #cool #sports\"\n",
    "print(tweet.split())\n",
    "print(tweet.split(\"#\"))\n",
    "print(tweet.split(\"#\")[1])"
   ]
  },
  {
   "cell_type": "code",
   "execution_count": 12,
   "id": "d979a0c4",
   "metadata": {},
   "outputs": [
    {
     "data": {
      "text/plain": [
       "dict_items([('key', 123), ('key2', 'my string')])"
      ]
     },
     "execution_count": 12,
     "metadata": {},
     "output_type": "execute_result"
    }
   ],
   "source": [
    "# Dictionary Methods\n",
    "d = { 'key': 123, 'key2': 'my string' }\n",
    "d.items() # it returns every item of a dict - as a tuple(key, value)."
   ]
  },
  {
   "cell_type": "code",
   "execution_count": 13,
   "id": "00cc0e54",
   "metadata": {},
   "outputs": [
    {
     "data": {
      "text/plain": [
       "[1, 2, 3, 4]"
      ]
     },
     "execution_count": 13,
     "metadata": {},
     "output_type": "execute_result"
    }
   ],
   "source": [
    "# List Methods\n",
    "my_list = [1, 2, 3]\n",
    "my_list.append(4)\n",
    "my_list"
   ]
  },
  {
   "cell_type": "code",
   "execution_count": 14,
   "id": "d280899b",
   "metadata": {},
   "outputs": [
    {
     "data": {
      "text/plain": [
       "4"
      ]
     },
     "execution_count": 14,
     "metadata": {},
     "output_type": "execute_result"
    }
   ],
   "source": [
    "my_list.pop()"
   ]
  },
  {
   "cell_type": "code",
   "execution_count": 15,
   "id": "585610aa",
   "metadata": {},
   "outputs": [
    {
     "data": {
      "text/plain": [
       "[1, 2, 3]"
      ]
     },
     "execution_count": 15,
     "metadata": {},
     "output_type": "execute_result"
    }
   ],
   "source": [
    "my_list"
   ]
  },
  {
   "cell_type": "code",
   "execution_count": 16,
   "id": "e5bb23bd",
   "metadata": {},
   "outputs": [],
   "source": [
    "# Misc"
   ]
  },
  {
   "cell_type": "code",
   "execution_count": 17,
   "id": "c32affa8",
   "metadata": {},
   "outputs": [
    {
     "data": {
      "text/plain": [
       "True"
      ]
     },
     "execution_count": 17,
     "metadata": {},
     "output_type": "execute_result"
    }
   ],
   "source": [
    "1 in my_list"
   ]
  },
  {
   "cell_type": "code",
   "execution_count": 18,
   "id": "730a57a1",
   "metadata": {},
   "outputs": [
    {
     "data": {
      "text/plain": [
       "False"
      ]
     },
     "execution_count": 18,
     "metadata": {},
     "output_type": "execute_result"
    }
   ],
   "source": [
    "'a' in my_list"
   ]
  },
  {
   "cell_type": "code",
   "execution_count": null,
   "id": "b7839246",
   "metadata": {},
   "outputs": [],
   "source": []
  }
 ],
 "metadata": {
  "kernelspec": {
   "display_name": "Python 3 (ipykernel)",
   "language": "python",
   "name": "python3"
  },
  "language_info": {
   "codemirror_mode": {
    "name": "ipython",
    "version": 3
   },
   "file_extension": ".py",
   "mimetype": "text/x-python",
   "name": "python",
   "nbconvert_exporter": "python",
   "pygments_lexer": "ipython3",
   "version": "3.9.10"
  }
 },
 "nbformat": 4,
 "nbformat_minor": 5
}

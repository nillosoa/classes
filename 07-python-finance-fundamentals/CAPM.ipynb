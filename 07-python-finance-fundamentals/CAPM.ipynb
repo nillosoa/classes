{
 "cells": [
  {
   "cell_type": "code",
   "execution_count": 1,
   "id": "ca235ef6",
   "metadata": {},
   "outputs": [],
   "source": [
    "from scipy import stats"
   ]
  },
  {
   "cell_type": "code",
   "execution_count": 2,
   "id": "2254c8b8",
   "metadata": {},
   "outputs": [
    {
     "name": "stdout",
     "output_type": "stream",
     "text": [
      "Help on function linregress in module scipy.stats._stats_mstats_common:\n",
      "\n",
      "linregress(x, y=None, alternative='two-sided')\n",
      "    Calculate a linear least-squares regression for two sets of measurements.\n",
      "    \n",
      "    Parameters\n",
      "    ----------\n",
      "    x, y : array_like\n",
      "        Two sets of measurements.  Both arrays should have the same length.  If\n",
      "        only `x` is given (and ``y=None``), then it must be a two-dimensional\n",
      "        array where one dimension has length 2.  The two sets of measurements\n",
      "        are then found by splitting the array along the length-2 dimension. In\n",
      "        the case where ``y=None`` and `x` is a 2x2 array, ``linregress(x)`` is\n",
      "        equivalent to ``linregress(x[0], x[1])``.\n",
      "    alternative : {'two-sided', 'less', 'greater'}, optional\n",
      "        Defines the alternative hypothesis. Default is 'two-sided'.\n",
      "        The following options are available:\n",
      "    \n",
      "        * 'two-sided': the slope of the regression line is nonzero\n",
      "        * 'less': the slope of the regression line is less than zero\n",
      "        * 'greater':  the slope of the regression line is greater than zero\n",
      "    \n",
      "        .. versionadded:: 1.7.0\n",
      "    \n",
      "    Returns\n",
      "    -------\n",
      "    result : ``LinregressResult`` instance\n",
      "        The return value is an object with the following attributes:\n",
      "    \n",
      "        slope : float\n",
      "            Slope of the regression line.\n",
      "        intercept : float\n",
      "            Intercept of the regression line.\n",
      "        rvalue : float\n",
      "            The Pearson correlation coefficient. The square of ``rvalue``\n",
      "            is equal to the coefficient of determination.\n",
      "        pvalue : float\n",
      "            The p-value for a hypothesis test whose null hypothesis is\n",
      "            that the slope is zero, using Wald Test with t-distribution of\n",
      "            the test statistic. See `alternative` above for alternative\n",
      "            hypotheses.\n",
      "        stderr : float\n",
      "            Standard error of the estimated slope (gradient), under the\n",
      "            assumption of residual normality.\n",
      "        intercept_stderr : float\n",
      "            Standard error of the estimated intercept, under the assumption\n",
      "            of residual normality.\n",
      "    \n",
      "    See Also\n",
      "    --------\n",
      "    scipy.optimize.curve_fit :\n",
      "        Use non-linear least squares to fit a function to data.\n",
      "    scipy.optimize.leastsq :\n",
      "        Minimize the sum of squares of a set of equations.\n",
      "    \n",
      "    Notes\n",
      "    -----\n",
      "    Missing values are considered pair-wise: if a value is missing in `x`,\n",
      "    the corresponding value in `y` is masked.\n",
      "    \n",
      "    For compatibility with older versions of SciPy, the return value acts\n",
      "    like a ``namedtuple`` of length 5, with fields ``slope``, ``intercept``,\n",
      "    ``rvalue``, ``pvalue`` and ``stderr``, so one can continue to write::\n",
      "    \n",
      "        slope, intercept, r, p, se = linregress(x, y)\n",
      "    \n",
      "    With that style, however, the standard error of the intercept is not\n",
      "    available.  To have access to all the computed values, including the\n",
      "    standard error of the intercept, use the return value as an object\n",
      "    with attributes, e.g.::\n",
      "    \n",
      "        result = linregress(x, y)\n",
      "        print(result.intercept, result.intercept_stderr)\n",
      "    \n",
      "    Examples\n",
      "    --------\n",
      "    >>> import matplotlib.pyplot as plt\n",
      "    >>> from scipy import stats\n",
      "    >>> rng = np.random.default_rng()\n",
      "    \n",
      "    Generate some data:\n",
      "    \n",
      "    >>> x = rng.random(10)\n",
      "    >>> y = 1.6*x + rng.random(10)\n",
      "    \n",
      "    Perform the linear regression:\n",
      "    \n",
      "    >>> res = stats.linregress(x, y)\n",
      "    \n",
      "    Coefficient of determination (R-squared):\n",
      "    \n",
      "    >>> print(f\"R-squared: {res.rvalue**2:.6f}\")\n",
      "    R-squared: 0.717533\n",
      "    \n",
      "    Plot the data along with the fitted line:\n",
      "    \n",
      "    >>> plt.plot(x, y, 'o', label='original data')\n",
      "    >>> plt.plot(x, res.intercept + res.slope*x, 'r', label='fitted line')\n",
      "    >>> plt.legend()\n",
      "    >>> plt.show()\n",
      "    \n",
      "    Calculate 95% confidence interval on slope and intercept:\n",
      "    \n",
      "    >>> # Two-sided inverse Students t-distribution\n",
      "    >>> # p - probability, df - degrees of freedom\n",
      "    >>> from scipy.stats import t\n",
      "    >>> tinv = lambda p, df: abs(t.ppf(p/2, df))\n",
      "    \n",
      "    >>> ts = tinv(0.05, len(x)-2)\n",
      "    >>> print(f\"slope (95%): {res.slope:.6f} +/- {ts*res.stderr:.6f}\")\n",
      "    slope (95%): 1.453392 +/- 0.743465\n",
      "    >>> print(f\"intercept (95%): {res.intercept:.6f}\"\n",
      "    ...       f\" +/- {ts*res.intercept_stderr:.6f}\")\n",
      "    intercept (95%): 0.616950 +/- 0.544475\n",
      "\n"
     ]
    }
   ],
   "source": [
    "help(stats.linregress)"
   ]
  },
  {
   "cell_type": "code",
   "execution_count": 3,
   "id": "37323d34",
   "metadata": {},
   "outputs": [],
   "source": [
    "import pandas as pd\n",
    "import pandas_datareader as web"
   ]
  },
  {
   "cell_type": "code",
   "execution_count": 6,
   "id": "52954e0b",
   "metadata": {},
   "outputs": [
    {
     "name": "stdout",
     "output_type": "stream",
     "text": [
      "<class 'pandas.core.frame.DataFrame'>\n",
      "DatetimeIndex: 1903 entries, 2010-01-04 to 2017-07-25\n",
      "Data columns (total 6 columns):\n",
      " #   Column     Non-Null Count  Dtype  \n",
      "---  ------     --------------  -----  \n",
      " 0   Open       1903 non-null   float64\n",
      " 1   High       1903 non-null   float64\n",
      " 2   Low        1903 non-null   float64\n",
      " 3   Close      1903 non-null   float64\n",
      " 4   Adj Close  1903 non-null   float64\n",
      " 5   Volume     1903 non-null   int64  \n",
      "dtypes: float64(5), int64(1)\n",
      "memory usage: 104.1 KB\n"
     ]
    }
   ],
   "source": [
    "# spy_etf = web.DataReader('SPY', 'google')\n",
    "spy_etf = pd.read_csv('SPY.csv', index_col='Date', parse_dates=True)\n",
    "spy_etf.info()"
   ]
  },
  {
   "cell_type": "code",
   "execution_count": 9,
   "id": "561d7162",
   "metadata": {},
   "outputs": [
    {
     "data": {
      "text/html": [
       "<div>\n",
       "<style scoped>\n",
       "    .dataframe tbody tr th:only-of-type {\n",
       "        vertical-align: middle;\n",
       "    }\n",
       "\n",
       "    .dataframe tbody tr th {\n",
       "        vertical-align: top;\n",
       "    }\n",
       "\n",
       "    .dataframe thead th {\n",
       "        text-align: right;\n",
       "    }\n",
       "</style>\n",
       "<table border=\"1\" class=\"dataframe\">\n",
       "  <thead>\n",
       "    <tr style=\"text-align: right;\">\n",
       "      <th></th>\n",
       "      <th>Open</th>\n",
       "      <th>High</th>\n",
       "      <th>Low</th>\n",
       "      <th>Close</th>\n",
       "      <th>Adj Close</th>\n",
       "      <th>Volume</th>\n",
       "    </tr>\n",
       "    <tr>\n",
       "      <th>Date</th>\n",
       "      <th></th>\n",
       "      <th></th>\n",
       "      <th></th>\n",
       "      <th></th>\n",
       "      <th></th>\n",
       "      <th></th>\n",
       "    </tr>\n",
       "  </thead>\n",
       "  <tbody>\n",
       "    <tr>\n",
       "      <th>2010-01-04</th>\n",
       "      <td>112.370003</td>\n",
       "      <td>113.389999</td>\n",
       "      <td>111.510002</td>\n",
       "      <td>113.330002</td>\n",
       "      <td>94.130867</td>\n",
       "      <td>118944600</td>\n",
       "    </tr>\n",
       "    <tr>\n",
       "      <th>2010-01-05</th>\n",
       "      <td>113.260002</td>\n",
       "      <td>113.680000</td>\n",
       "      <td>112.849998</td>\n",
       "      <td>113.629997</td>\n",
       "      <td>94.380074</td>\n",
       "      <td>111579900</td>\n",
       "    </tr>\n",
       "    <tr>\n",
       "      <th>2010-01-06</th>\n",
       "      <td>113.519997</td>\n",
       "      <td>113.989998</td>\n",
       "      <td>113.430000</td>\n",
       "      <td>113.709999</td>\n",
       "      <td>94.446495</td>\n",
       "      <td>116074400</td>\n",
       "    </tr>\n",
       "    <tr>\n",
       "      <th>2010-01-07</th>\n",
       "      <td>113.500000</td>\n",
       "      <td>114.330002</td>\n",
       "      <td>113.180000</td>\n",
       "      <td>114.190002</td>\n",
       "      <td>94.845207</td>\n",
       "      <td>131091100</td>\n",
       "    </tr>\n",
       "    <tr>\n",
       "      <th>2010-01-08</th>\n",
       "      <td>113.889999</td>\n",
       "      <td>114.620003</td>\n",
       "      <td>113.660004</td>\n",
       "      <td>114.570000</td>\n",
       "      <td>95.160805</td>\n",
       "      <td>126402800</td>\n",
       "    </tr>\n",
       "    <tr>\n",
       "      <th>...</th>\n",
       "      <td>...</td>\n",
       "      <td>...</td>\n",
       "      <td>...</td>\n",
       "      <td>...</td>\n",
       "      <td>...</td>\n",
       "      <td>...</td>\n",
       "    </tr>\n",
       "    <tr>\n",
       "      <th>2017-07-19</th>\n",
       "      <td>246.020004</td>\n",
       "      <td>247.000000</td>\n",
       "      <td>246.009995</td>\n",
       "      <td>246.990005</td>\n",
       "      <td>238.910080</td>\n",
       "      <td>51034300</td>\n",
       "    </tr>\n",
       "    <tr>\n",
       "      <th>2017-07-20</th>\n",
       "      <td>247.279999</td>\n",
       "      <td>247.419998</td>\n",
       "      <td>246.470001</td>\n",
       "      <td>247.100006</td>\n",
       "      <td>239.016479</td>\n",
       "      <td>47135200</td>\n",
       "    </tr>\n",
       "    <tr>\n",
       "      <th>2017-07-21</th>\n",
       "      <td>246.440002</td>\n",
       "      <td>246.910004</td>\n",
       "      <td>246.179993</td>\n",
       "      <td>246.880005</td>\n",
       "      <td>238.803665</td>\n",
       "      <td>82340800</td>\n",
       "    </tr>\n",
       "    <tr>\n",
       "      <th>2017-07-24</th>\n",
       "      <td>246.789993</td>\n",
       "      <td>246.979996</td>\n",
       "      <td>246.279999</td>\n",
       "      <td>246.820007</td>\n",
       "      <td>238.745667</td>\n",
       "      <td>46622300</td>\n",
       "    </tr>\n",
       "    <tr>\n",
       "      <th>2017-07-25</th>\n",
       "      <td>247.679993</td>\n",
       "      <td>247.800003</td>\n",
       "      <td>247.160004</td>\n",
       "      <td>247.419998</td>\n",
       "      <td>239.326004</td>\n",
       "      <td>54915600</td>\n",
       "    </tr>\n",
       "  </tbody>\n",
       "</table>\n",
       "<p>1903 rows × 6 columns</p>\n",
       "</div>"
      ],
      "text/plain": [
       "                  Open        High         Low       Close   Adj Close  \\\n",
       "Date                                                                     \n",
       "2010-01-04  112.370003  113.389999  111.510002  113.330002   94.130867   \n",
       "2010-01-05  113.260002  113.680000  112.849998  113.629997   94.380074   \n",
       "2010-01-06  113.519997  113.989998  113.430000  113.709999   94.446495   \n",
       "2010-01-07  113.500000  114.330002  113.180000  114.190002   94.845207   \n",
       "2010-01-08  113.889999  114.620003  113.660004  114.570000   95.160805   \n",
       "...                ...         ...         ...         ...         ...   \n",
       "2017-07-19  246.020004  247.000000  246.009995  246.990005  238.910080   \n",
       "2017-07-20  247.279999  247.419998  246.470001  247.100006  239.016479   \n",
       "2017-07-21  246.440002  246.910004  246.179993  246.880005  238.803665   \n",
       "2017-07-24  246.789993  246.979996  246.279999  246.820007  238.745667   \n",
       "2017-07-25  247.679993  247.800003  247.160004  247.419998  239.326004   \n",
       "\n",
       "               Volume  \n",
       "Date                   \n",
       "2010-01-04  118944600  \n",
       "2010-01-05  111579900  \n",
       "2010-01-06  116074400  \n",
       "2010-01-07  131091100  \n",
       "2010-01-08  126402800  \n",
       "...               ...  \n",
       "2017-07-19   51034300  \n",
       "2017-07-20   47135200  \n",
       "2017-07-21   82340800  \n",
       "2017-07-24   46622300  \n",
       "2017-07-25   54915600  \n",
       "\n",
       "[1903 rows x 6 columns]"
      ]
     },
     "execution_count": 9,
     "metadata": {},
     "output_type": "execute_result"
    }
   ],
   "source": [
    "spy_etf"
   ]
  },
  {
   "cell_type": "code",
   "execution_count": 11,
   "id": "2d4fd6ca",
   "metadata": {},
   "outputs": [],
   "source": [
    "start = pd.to_datetime('2010-01-04')\n",
    "end = pd.to_datetime('2017-07-25')"
   ]
  },
  {
   "cell_type": "code",
   "execution_count": 26,
   "id": "42702313",
   "metadata": {},
   "outputs": [
    {
     "data": {
      "text/html": [
       "<div>\n",
       "<style scoped>\n",
       "    .dataframe tbody tr th:only-of-type {\n",
       "        vertical-align: middle;\n",
       "    }\n",
       "\n",
       "    .dataframe tbody tr th {\n",
       "        vertical-align: top;\n",
       "    }\n",
       "\n",
       "    .dataframe thead th {\n",
       "        text-align: right;\n",
       "    }\n",
       "</style>\n",
       "<table border=\"1\" class=\"dataframe\">\n",
       "  <thead>\n",
       "    <tr style=\"text-align: right;\">\n",
       "      <th></th>\n",
       "      <th>High</th>\n",
       "      <th>Low</th>\n",
       "      <th>Open</th>\n",
       "      <th>Close</th>\n",
       "      <th>Volume</th>\n",
       "      <th>Adj Close</th>\n",
       "    </tr>\n",
       "    <tr>\n",
       "      <th>Date</th>\n",
       "      <th></th>\n",
       "      <th></th>\n",
       "      <th></th>\n",
       "      <th></th>\n",
       "      <th></th>\n",
       "      <th></th>\n",
       "    </tr>\n",
       "  </thead>\n",
       "  <tbody>\n",
       "    <tr>\n",
       "      <th>2010-01-04</th>\n",
       "      <td>7.660714</td>\n",
       "      <td>7.585000</td>\n",
       "      <td>7.622500</td>\n",
       "      <td>7.643214</td>\n",
       "      <td>493729600.0</td>\n",
       "      <td>6.544687</td>\n",
       "    </tr>\n",
       "    <tr>\n",
       "      <th>2010-01-05</th>\n",
       "      <td>7.699643</td>\n",
       "      <td>7.616071</td>\n",
       "      <td>7.664286</td>\n",
       "      <td>7.656429</td>\n",
       "      <td>601904800.0</td>\n",
       "      <td>6.556001</td>\n",
       "    </tr>\n",
       "    <tr>\n",
       "      <th>2010-01-06</th>\n",
       "      <td>7.686786</td>\n",
       "      <td>7.526786</td>\n",
       "      <td>7.656429</td>\n",
       "      <td>7.534643</td>\n",
       "      <td>552160000.0</td>\n",
       "      <td>6.451720</td>\n",
       "    </tr>\n",
       "    <tr>\n",
       "      <th>2010-01-07</th>\n",
       "      <td>7.571429</td>\n",
       "      <td>7.466071</td>\n",
       "      <td>7.562500</td>\n",
       "      <td>7.520714</td>\n",
       "      <td>477131200.0</td>\n",
       "      <td>6.439794</td>\n",
       "    </tr>\n",
       "    <tr>\n",
       "      <th>2010-01-08</th>\n",
       "      <td>7.571429</td>\n",
       "      <td>7.466429</td>\n",
       "      <td>7.510714</td>\n",
       "      <td>7.570714</td>\n",
       "      <td>447610800.0</td>\n",
       "      <td>6.482606</td>\n",
       "    </tr>\n",
       "    <tr>\n",
       "      <th>...</th>\n",
       "      <td>...</td>\n",
       "      <td>...</td>\n",
       "      <td>...</td>\n",
       "      <td>...</td>\n",
       "      <td>...</td>\n",
       "      <td>...</td>\n",
       "    </tr>\n",
       "    <tr>\n",
       "      <th>2017-07-19</th>\n",
       "      <td>37.855000</td>\n",
       "      <td>37.487499</td>\n",
       "      <td>37.619999</td>\n",
       "      <td>37.755001</td>\n",
       "      <td>83692000.0</td>\n",
       "      <td>35.793888</td>\n",
       "    </tr>\n",
       "    <tr>\n",
       "      <th>2017-07-20</th>\n",
       "      <td>37.935001</td>\n",
       "      <td>37.547501</td>\n",
       "      <td>37.875000</td>\n",
       "      <td>37.584999</td>\n",
       "      <td>68974800.0</td>\n",
       "      <td>35.632721</td>\n",
       "    </tr>\n",
       "    <tr>\n",
       "      <th>2017-07-21</th>\n",
       "      <td>37.610001</td>\n",
       "      <td>37.220001</td>\n",
       "      <td>37.497501</td>\n",
       "      <td>37.567501</td>\n",
       "      <td>105010400.0</td>\n",
       "      <td>35.616131</td>\n",
       "    </tr>\n",
       "    <tr>\n",
       "      <th>2017-07-24</th>\n",
       "      <td>38.110001</td>\n",
       "      <td>37.474998</td>\n",
       "      <td>37.645000</td>\n",
       "      <td>38.022499</td>\n",
       "      <td>85972800.0</td>\n",
       "      <td>36.047493</td>\n",
       "    </tr>\n",
       "    <tr>\n",
       "      <th>2017-07-25</th>\n",
       "      <td>38.459999</td>\n",
       "      <td>37.950001</td>\n",
       "      <td>37.950001</td>\n",
       "      <td>38.185001</td>\n",
       "      <td>75415600.0</td>\n",
       "      <td>36.201553</td>\n",
       "    </tr>\n",
       "  </tbody>\n",
       "</table>\n",
       "<p>1903 rows × 6 columns</p>\n",
       "</div>"
      ],
      "text/plain": [
       "                 High        Low       Open      Close       Volume  Adj Close\n",
       "Date                                                                          \n",
       "2010-01-04   7.660714   7.585000   7.622500   7.643214  493729600.0   6.544687\n",
       "2010-01-05   7.699643   7.616071   7.664286   7.656429  601904800.0   6.556001\n",
       "2010-01-06   7.686786   7.526786   7.656429   7.534643  552160000.0   6.451720\n",
       "2010-01-07   7.571429   7.466071   7.562500   7.520714  477131200.0   6.439794\n",
       "2010-01-08   7.571429   7.466429   7.510714   7.570714  447610800.0   6.482606\n",
       "...               ...        ...        ...        ...          ...        ...\n",
       "2017-07-19  37.855000  37.487499  37.619999  37.755001   83692000.0  35.793888\n",
       "2017-07-20  37.935001  37.547501  37.875000  37.584999   68974800.0  35.632721\n",
       "2017-07-21  37.610001  37.220001  37.497501  37.567501  105010400.0  35.616131\n",
       "2017-07-24  38.110001  37.474998  37.645000  38.022499   85972800.0  36.047493\n",
       "2017-07-25  38.459999  37.950001  37.950001  38.185001   75415600.0  36.201553\n",
       "\n",
       "[1903 rows x 6 columns]"
      ]
     },
     "execution_count": 26,
     "metadata": {},
     "output_type": "execute_result"
    }
   ],
   "source": [
    "aapl = web.DataReader('AAPL', 'yahoo', start, end)\n",
    "aapl"
   ]
  },
  {
   "cell_type": "code",
   "execution_count": 27,
   "id": "20ffaf2d",
   "metadata": {},
   "outputs": [
    {
     "data": {
      "text/html": [
       "<div>\n",
       "<style scoped>\n",
       "    .dataframe tbody tr th:only-of-type {\n",
       "        vertical-align: middle;\n",
       "    }\n",
       "\n",
       "    .dataframe tbody tr th {\n",
       "        vertical-align: top;\n",
       "    }\n",
       "\n",
       "    .dataframe thead th {\n",
       "        text-align: right;\n",
       "    }\n",
       "</style>\n",
       "<table border=\"1\" class=\"dataframe\">\n",
       "  <thead>\n",
       "    <tr style=\"text-align: right;\">\n",
       "      <th></th>\n",
       "      <th>High</th>\n",
       "      <th>Low</th>\n",
       "      <th>Open</th>\n",
       "      <th>Close</th>\n",
       "      <th>Volume</th>\n",
       "      <th>Adj Close</th>\n",
       "    </tr>\n",
       "    <tr>\n",
       "      <th>Date</th>\n",
       "      <th></th>\n",
       "      <th></th>\n",
       "      <th></th>\n",
       "      <th></th>\n",
       "      <th></th>\n",
       "      <th></th>\n",
       "    </tr>\n",
       "  </thead>\n",
       "  <tbody>\n",
       "    <tr>\n",
       "      <th>2010-01-04</th>\n",
       "      <td>30.642857</td>\n",
       "      <td>30.340000</td>\n",
       "      <td>30.490000</td>\n",
       "      <td>30.572857</td>\n",
       "      <td>1.974918e+09</td>\n",
       "      <td>26.178749</td>\n",
       "    </tr>\n",
       "    <tr>\n",
       "      <th>2010-01-05</th>\n",
       "      <td>30.798573</td>\n",
       "      <td>30.464285</td>\n",
       "      <td>30.657145</td>\n",
       "      <td>30.625715</td>\n",
       "      <td>2.407619e+09</td>\n",
       "      <td>26.224003</td>\n",
       "    </tr>\n",
       "    <tr>\n",
       "      <th>2010-01-06</th>\n",
       "      <td>30.747145</td>\n",
       "      <td>30.107143</td>\n",
       "      <td>30.625715</td>\n",
       "      <td>30.138573</td>\n",
       "      <td>2.208640e+09</td>\n",
       "      <td>25.806879</td>\n",
       "    </tr>\n",
       "    <tr>\n",
       "      <th>2010-01-07</th>\n",
       "      <td>30.285715</td>\n",
       "      <td>29.864285</td>\n",
       "      <td>30.250000</td>\n",
       "      <td>30.082855</td>\n",
       "      <td>1.908525e+09</td>\n",
       "      <td>25.759174</td>\n",
       "    </tr>\n",
       "    <tr>\n",
       "      <th>2010-01-08</th>\n",
       "      <td>30.285715</td>\n",
       "      <td>29.865717</td>\n",
       "      <td>30.042856</td>\n",
       "      <td>30.282856</td>\n",
       "      <td>1.790443e+09</td>\n",
       "      <td>25.930426</td>\n",
       "    </tr>\n",
       "    <tr>\n",
       "      <th>...</th>\n",
       "      <td>...</td>\n",
       "      <td>...</td>\n",
       "      <td>...</td>\n",
       "      <td>...</td>\n",
       "      <td>...</td>\n",
       "      <td>...</td>\n",
       "    </tr>\n",
       "    <tr>\n",
       "      <th>2017-07-19</th>\n",
       "      <td>151.419998</td>\n",
       "      <td>149.949997</td>\n",
       "      <td>150.479996</td>\n",
       "      <td>151.020004</td>\n",
       "      <td>3.347680e+08</td>\n",
       "      <td>143.175552</td>\n",
       "    </tr>\n",
       "    <tr>\n",
       "      <th>2017-07-20</th>\n",
       "      <td>151.740005</td>\n",
       "      <td>150.190002</td>\n",
       "      <td>151.500000</td>\n",
       "      <td>150.339996</td>\n",
       "      <td>2.758992e+08</td>\n",
       "      <td>142.530884</td>\n",
       "    </tr>\n",
       "    <tr>\n",
       "      <th>2017-07-21</th>\n",
       "      <td>150.440002</td>\n",
       "      <td>148.880005</td>\n",
       "      <td>149.990005</td>\n",
       "      <td>150.270004</td>\n",
       "      <td>4.200416e+08</td>\n",
       "      <td>142.464523</td>\n",
       "    </tr>\n",
       "    <tr>\n",
       "      <th>2017-07-24</th>\n",
       "      <td>152.440002</td>\n",
       "      <td>149.899994</td>\n",
       "      <td>150.580002</td>\n",
       "      <td>152.089996</td>\n",
       "      <td>3.438912e+08</td>\n",
       "      <td>144.189972</td>\n",
       "    </tr>\n",
       "    <tr>\n",
       "      <th>2017-07-25</th>\n",
       "      <td>153.839996</td>\n",
       "      <td>151.800003</td>\n",
       "      <td>151.800003</td>\n",
       "      <td>152.740005</td>\n",
       "      <td>3.016624e+08</td>\n",
       "      <td>144.806213</td>\n",
       "    </tr>\n",
       "  </tbody>\n",
       "</table>\n",
       "<p>1903 rows × 6 columns</p>\n",
       "</div>"
      ],
      "text/plain": [
       "                  High         Low        Open       Close        Volume  \\\n",
       "Date                                                                       \n",
       "2010-01-04   30.642857   30.340000   30.490000   30.572857  1.974918e+09   \n",
       "2010-01-05   30.798573   30.464285   30.657145   30.625715  2.407619e+09   \n",
       "2010-01-06   30.747145   30.107143   30.625715   30.138573  2.208640e+09   \n",
       "2010-01-07   30.285715   29.864285   30.250000   30.082855  1.908525e+09   \n",
       "2010-01-08   30.285715   29.865717   30.042856   30.282856  1.790443e+09   \n",
       "...                ...         ...         ...         ...           ...   \n",
       "2017-07-19  151.419998  149.949997  150.479996  151.020004  3.347680e+08   \n",
       "2017-07-20  151.740005  150.190002  151.500000  150.339996  2.758992e+08   \n",
       "2017-07-21  150.440002  148.880005  149.990005  150.270004  4.200416e+08   \n",
       "2017-07-24  152.440002  149.899994  150.580002  152.089996  3.438912e+08   \n",
       "2017-07-25  153.839996  151.800003  151.800003  152.740005  3.016624e+08   \n",
       "\n",
       "             Adj Close  \n",
       "Date                    \n",
       "2010-01-04   26.178749  \n",
       "2010-01-05   26.224003  \n",
       "2010-01-06   25.806879  \n",
       "2010-01-07   25.759174  \n",
       "2010-01-08   25.930426  \n",
       "...                ...  \n",
       "2017-07-19  143.175552  \n",
       "2017-07-20  142.530884  \n",
       "2017-07-21  142.464523  \n",
       "2017-07-24  144.189972  \n",
       "2017-07-25  144.806213  \n",
       "\n",
       "[1903 rows x 6 columns]"
      ]
     },
     "execution_count": 27,
     "metadata": {},
     "output_type": "execute_result"
    }
   ],
   "source": [
    "# Fix this\n",
    "# https://www.fool.com/investing/2020/08/31/apple-stock-split-today-what-you-need-know/\n",
    "aapl = aapl * 4\n",
    "aapl"
   ]
  },
  {
   "cell_type": "code",
   "execution_count": 24,
   "id": "35c34f26",
   "metadata": {},
   "outputs": [],
   "source": [
    "import matplotlib.pyplot as plt\n",
    "%matplotlib inline"
   ]
  },
  {
   "cell_type": "code",
   "execution_count": 28,
   "id": "3fe313d1",
   "metadata": {},
   "outputs": [
    {
     "data": {
      "text/plain": [
       "<matplotlib.legend.Legend at 0x28605526940>"
      ]
     },
     "execution_count": 28,
     "metadata": {},
     "output_type": "execute_result"
    },
    {
     "data": {
      "image/png": "[encoded data removed]",
      "text/plain": [
       "<Figure size 720x576 with 1 Axes>"
      ]
     },
     "metadata": {
      "needs_background": "light"
     },
     "output_type": "display_data"
    }
   ],
   "source": [
    "aapl['Close'].plot(label='AAPL', figsize=(10, 8))\n",
    "spy_etf['Close'].plot(label='SPY Index')\n",
    "plt.legend()"
   ]
  },
  {
   "cell_type": "code",
   "execution_count": 29,
   "id": "3234dc8f",
   "metadata": {},
   "outputs": [],
   "source": [
    "aapl['Cumulative'] = aapl['Close'] / aapl['Close'].iloc[0]\n",
    "spy_etf['Cumulative'] = spy_etf['Close'] / spy_etf['Close'].iloc[0]"
   ]
  },
  {
   "cell_type": "code",
   "execution_count": 30,
   "id": "02594695",
   "metadata": {},
   "outputs": [
    {
     "data": {
      "text/plain": [
       "<matplotlib.legend.Legend at 0x286098bd580>"
      ]
     },
     "execution_count": 30,
     "metadata": {},
     "output_type": "execute_result"
    },
    {
     "data": {
      "image/png": "[encoded data removed]",
      "text/plain": [
       "<Figure size 720x576 with 1 Axes>"
      ]
     },
     "metadata": {
      "needs_background": "light"
     },
     "output_type": "display_data"
    }
   ],
   "source": [
    "aapl['Cumulative'].plot(label='AAPL', figsize=(10, 8))\n",
    "spy_etf['Cumulative'].plot(label='SPY')\n",
    "plt.legend()"
   ]
  },
  {
   "cell_type": "code",
   "execution_count": 32,
   "id": "dd29491b",
   "metadata": {},
   "outputs": [],
   "source": [
    "aapl['Daily Return'] = aapl['Close'].pct_change(1)\n",
    "spy_etf['Daily Return'] = spy_etf['Close'].pct_change(1)"
   ]
  },
  {
   "cell_type": "code",
   "execution_count": 33,
   "id": "012a0435",
   "metadata": {},
   "outputs": [
    {
     "data": {
      "text/plain": [
       "<matplotlib.collections.PathCollection at 0x286095294f0>"
      ]
     },
     "execution_count": 33,
     "metadata": {},
     "output_type": "execute_result"
    },
    {
     "data": {
      "image/png": "[encoded data removed]",
      "text/plain": [
       "<Figure size 432x288 with 1 Axes>"
      ]
     },
     "metadata": {
      "needs_background": "light"
     },
     "output_type": "display_data"
    }
   ],
   "source": [
    "plt.scatter(aapl['Daily Return'], spy_etf['Daily Return'], alpha=0.25)"
   ]
  },
  {
   "cell_type": "code",
   "execution_count": 35,
   "id": "7a584edc",
   "metadata": {},
   "outputs": [],
   "source": [
    "beta, alpha, r_value, p_value, std_value = stats.linregress(\n",
    "    aapl['Daily Return'].iloc[1:], spy_etf['Daily Return'].iloc[1:])"
   ]
  },
  {
   "cell_type": "code",
   "execution_count": 36,
   "id": "544b2469",
   "metadata": {},
   "outputs": [
    {
     "data": {
      "text/plain": [
       "0.3259515068838618"
      ]
     },
     "execution_count": 36,
     "metadata": {},
     "output_type": "execute_result"
    }
   ],
   "source": [
    "beta"
   ]
  },
  {
   "cell_type": "code",
   "execution_count": 37,
   "id": "47b4d0b4",
   "metadata": {},
   "outputs": [
    {
     "data": {
      "text/plain": [
       "0.00013716483707344832"
      ]
     },
     "execution_count": 37,
     "metadata": {},
     "output_type": "execute_result"
    }
   ],
   "source": [
    "alpha"
   ]
  },
  {
   "cell_type": "code",
   "execution_count": 38,
   "id": "00ccf9e6",
   "metadata": {},
   "outputs": [
    {
     "data": {
      "text/plain": [
       "0.5559565844398596"
      ]
     },
     "execution_count": 38,
     "metadata": {},
     "output_type": "execute_result"
    }
   ],
   "source": [
    "r_value"
   ]
  },
  {
   "cell_type": "code",
   "execution_count": 39,
   "id": "5520a920",
   "metadata": {},
   "outputs": [
    {
     "data": {
      "text/plain": [
       "Date\n",
       "2010-01-04         NaN\n",
       "2010-01-05    0.002647\n",
       "2010-01-06    0.000704\n",
       "2010-01-07    0.004221\n",
       "2010-01-08    0.003328\n",
       "Name: Daily Return, dtype: float64"
      ]
     },
     "execution_count": 39,
     "metadata": {},
     "output_type": "execute_result"
    }
   ],
   "source": [
    "spy_etf['Daily Return'].head()"
   ]
  },
  {
   "cell_type": "code",
   "execution_count": 40,
   "id": "022fe7ff",
   "metadata": {},
   "outputs": [],
   "source": [
    "import numpy as np"
   ]
  },
  {
   "cell_type": "code",
   "execution_count": 41,
   "id": "e9b7eac8",
   "metadata": {},
   "outputs": [
    {
     "data": {
      "text/plain": [
       "array([ 0.001948  , -0.00324802, -0.00124269, ..., -0.00056997,\n",
       "        0.00058972, -0.00195629])"
      ]
     },
     "execution_count": 41,
     "metadata": {},
     "output_type": "execute_result"
    }
   ],
   "source": [
    "noise = np.random.normal(0, 0.001, len(spy_etf['Daily Return'].iloc[1:]))\n",
    "noise"
   ]
  },
  {
   "cell_type": "code",
   "execution_count": 42,
   "id": "cb0b8bed",
   "metadata": {},
   "outputs": [
    {
     "data": {
      "text/plain": [
       "Date\n",
       "2010-01-05    0.004595\n",
       "2010-01-06   -0.002544\n",
       "2010-01-07    0.002979\n",
       "2010-01-08    0.004349\n",
       "2010-01-11    0.001039\n",
       "                ...   \n",
       "2017-07-19    0.004241\n",
       "2017-07-20    0.000212\n",
       "2017-07-21   -0.001460\n",
       "2017-07-24    0.000347\n",
       "2017-07-25    0.000475\n",
       "Name: Daily Return, Length: 1902, dtype: float64"
      ]
     },
     "execution_count": 42,
     "metadata": {},
     "output_type": "execute_result"
    }
   ],
   "source": [
    "fake_stock = spy_etf['Daily Return'].iloc[1:] + noise\n",
    "fake_stock"
   ]
  },
  {
   "cell_type": "code",
   "execution_count": 43,
   "id": "b49d71ab",
   "metadata": {},
   "outputs": [
    {
     "data": {
      "text/plain": [
       "<matplotlib.collections.PathCollection at 0x28608ceb1c0>"
      ]
     },
     "execution_count": 43,
     "metadata": {},
     "output_type": "execute_result"
    },
    {
     "data": {
      "image/png": "[encoded data removed]",
      "text/plain": [
       "<Figure size 432x288 with 1 Axes>"
      ]
     },
     "metadata": {
      "needs_background": "light"
     },
     "output_type": "display_data"
    }
   ],
   "source": [
    "plt.scatter(fake_stock, spy_etf['Daily Return'].iloc[1:], alpha=.25)"
   ]
  },
  {
   "cell_type": "code",
   "execution_count": 44,
   "id": "0697f688",
   "metadata": {},
   "outputs": [],
   "source": [
    "beta, alpha, r_value, p_value, std_value = stats.linregress(fake_stock, spy_etf['Daily Return'].iloc[1:])"
   ]
  },
  {
   "cell_type": "code",
   "execution_count": 45,
   "id": "d7e053af",
   "metadata": {},
   "outputs": [
    {
     "data": {
      "text/plain": [
       "0.9895160675644036"
      ]
     },
     "execution_count": 45,
     "metadata": {},
     "output_type": "execute_result"
    }
   ],
   "source": [
    "beta"
   ]
  },
  {
   "cell_type": "code",
   "execution_count": 46,
   "id": "bfb911de",
   "metadata": {},
   "outputs": [
    {
     "data": {
      "text/plain": [
       "7.843813212442155e-06"
      ]
     },
     "execution_count": 46,
     "metadata": {},
     "output_type": "execute_result"
    }
   ],
   "source": [
    "alpha"
   ]
  },
  {
   "cell_type": "code",
   "execution_count": null,
   "id": "349a2085",
   "metadata": {},
   "outputs": [],
   "source": []
  }
 ],
 "metadata": {
  "kernelspec": {
   "display_name": "Python 3 (ipykernel)",
   "language": "python",
   "name": "python3"
  },
  "language_info": {
   "codemirror_mode": {
    "name": "ipython",
    "version": 3
   },
   "file_extension": ".py",
   "mimetype": "text/x-python",
   "name": "python",
   "nbconvert_exporter": "python",
   "pygments_lexer": "ipython3",
   "version": "3.9.12"
  }
 },
 "nbformat": 4,
 "nbformat_minor": 5
}
